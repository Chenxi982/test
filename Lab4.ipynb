{
 "cells": [
  {
   "cell_type": "markdown",
   "metadata": {},
   "source": [
    "## Compare Vectorization and List Comprehension\n"
   ]
  },
  {
   "cell_type": "code",
   "execution_count": 1,
   "metadata": {},
   "outputs": [],
   "source": [
    "import numpy as np\n",
    "import matplotlib.pyplot as plt\n",
    "import math\n",
    "'''\n",
    "Given vector A, calculate B = [A[0]^2, A[1]^2, A[2]^2, A[3]^2]\n",
    "'''\n",
    "\n",
    "A = [1, 2, 3, 4]\n"
   ]
  },
  {
   "cell_type": "markdown",
   "metadata": {},
   "source": [
    "### 1. List Comprehension\n",
    "List comprehension is to finish all the calculation inside a list with iteration."
   ]
  },
  {
   "cell_type": "code",
   "execution_count": 2,
   "metadata": {},
   "outputs": [
    {
     "name": "stdout",
     "output_type": "stream",
     "text": [
      "[1, 4, 9, 16]\n"
     ]
    }
   ],
   "source": [
    "# List comprehension\n",
    "B = [i**2 for i in A]\n",
    "print(B)"
   ]
  },
  {
   "cell_type": "markdown",
   "metadata": {},
   "source": [
    "### 2. Vectorization\n",
    "Vectorization is to do the calculation directly to the vector with np.ndarray type. So don't forget to change A into a np.array before using the vectorization. And numpy has lots of function to do different operations. (np.exp(), np.log(), np.dot())"
   ]
  },
  {
   "cell_type": "code",
   "execution_count": 7,
   "metadata": {},
   "outputs": [
    {
     "name": "stdout",
     "output_type": "stream",
     "text": [
      "[ 1  4  9 16]\n"
     ]
    }
   ],
   "source": [
    "# Vectorization\n",
    "\n",
    "A = np.array(A)\n",
    "B = A**2\n",
    "print(B)"
   ]
  },
  {
   "cell_type": "code",
   "execution_count": 8,
   "metadata": {},
   "outputs": [
    {
     "name": "stdout",
     "output_type": "stream",
     "text": [
      "Calculate exp of each term in A: \n",
      "  [ 2.71828183  7.3890561  20.08553692 54.59815003]\n",
      "Calculate log of each term in A: \n",
      "  [0.         0.69314718 1.09861229 1.38629436]\n",
      "Calculate cubic of each term in A: \n",
      "  [ 1  8 27 64]\n"
     ]
    }
   ],
   "source": [
    "\n",
    "print(\"Calculate exp of each term in A: \\n \", np.exp(A))\n",
    "\n",
    "print(\"Calculate log of each term in A: \\n \", np.log(A))\n",
    "\n",
    "print(\"Calculate cubic of each term in A: \\n \", np.power(A, 3))"
   ]
  },
  {
   "cell_type": "markdown",
   "metadata": {},
   "source": [
    "Also, vectorization in numpy can help you to do more **Vector Operation** like inner product, elementwise product in the future."
   ]
  },
  {
   "cell_type": "code",
   "execution_count": 63,
   "metadata": {},
   "outputs": [
    {
     "name": "stdout",
     "output_type": "stream",
     "text": [
      "List Comprehension : 20\n",
      "Vectorization : 20\n",
      "List Comprehension: 0.01503s Result: 25082.01799\n",
      "Vectorization : 0.00852s Result: 25082.01799\n",
      "Vectorization can get the same result as List Comprehension but save more time. \n"
     ]
    }
   ],
   "source": [
    "\"\"\"\n",
    "Calcualtet the inner product of A = [1, 2, 3] and B = [2, 3, 4]\n",
    "\"\"\"\n",
    "A = np.array([1, 2, 3])\n",
    "B = np.array([2, 3, 4])\n",
    "\n",
    "# List comprehension \n",
    "inner_product = sum([A[i]*B[i] for i in range(len(A))])\n",
    "print('List Comprehension :', str(inner_product))\n",
    "\n",
    "# Vectorization\n",
    "inner_product = np.dot(A, B)\n",
    "print('Vectorization :', str(inner_product))\n"
   ]
  },
  {
   "cell_type": "markdown",
   "metadata": {},
   "source": [
    "### 3. Time comparison between Vectorization and List Comprehension"
   ]
  },
  {
   "cell_type": "code",
   "execution_count": 41,
   "metadata": {},
   "outputs": [
    {
     "data": {
      "image/png": "[encoded data removed]",
      "text/plain": [
       "<matplotlib.figure.Figure at 0x10c3aac50>"
      ]
     },
     "metadata": {},
     "output_type": "display_data"
    }
   ],
   "source": [
    "import random\n",
    "import time\n",
    "\n",
    "\"\"\"\n",
    "Time comparison for simple operation\n",
    "\"\"\"\n",
    "nmax = [10**n for n in range(1,8)]\n",
    "t_list = []\n",
    "t_array = []\n",
    "for n in nmax:\n",
    "    r_list = [random.random() for _ in range(n)]\n",
    "    r_array = np.array(r)\n",
    "\n",
    "    t0 = time.perf_counter()\n",
    "    r_list1 = [i**2 for i in r_list]\n",
    "    t_list.append(time.perf_counter() - t0)\n",
    "\n",
    "\n",
    "    t1 = time.perf_counter()\n",
    "    r_array1 = np.power(r_array, 2)\n",
    "    t_array.append(time.perf_counter() - t1)\n",
    "\n",
    "plt.figure()\n",
    "plt.loglog(nmax, t_list, label = 'Time cost with list comprehension')\n",
    "plt.loglog(nmax, t_array, label = 'Time cost with vectorization')\n",
    "plt.title('Time cost comparison: List Comprehension VS. Vectorization')\n",
    "plt.legend()\n",
    "plt.xlabel('length of list')\n",
    "plt.ylabel('Time cost(s)')\n",
    "plt.show()\n",
    "\n"
   ]
  },
  {
   "cell_type": "code",
   "execution_count": 66,
   "metadata": {},
   "outputs": [
    {
     "name": "stdout",
     "output_type": "stream",
     "text": [
      "List Comprehension - Time cost : 0.01705s Result: 25120.44855\n",
      "Vectorization - Time cost : 0.00851s Result: 25120.44855\n"
     ]
    }
   ],
   "source": [
    "\"\"\"\n",
    "Time comparison for vector operation\n",
    "\"\"\"\n",
    "\n",
    "A = [random.random() for _ in range(100000)]\n",
    "B = [random.random() for _ in range(100000)]\n",
    "\n",
    "t0 = time.perf_counter()\n",
    "i_list = sum([A[i]*B[i] for i in range(len(A))])\n",
    "t_list = time.perf_counter() - t0\n",
    "\n",
    "t0 = time.perf_counter()\n",
    "i_vect = np.dot(A, B)\n",
    "t_vect = time.perf_counter() - t0\n",
    "\n",
    "print('List Comprehension - Time cost : %.5fs'%t_list ,'Result: %.5f'%i_list)\n",
    "print('Vectorization - Time cost : %.5fs'%t_vect, 'Result: %.5f'%i_vect)\n"
   ]
  },
  {
   "cell_type": "markdown",
   "metadata": {},
   "source": [
    "Vectorization can get the same result as List Comprehension but save more time. \n",
    "So we prefer to choose **Vectorization** for further vector operations. "
   ]
  },
  {
   "cell_type": "code",
   "execution_count": 65,
   "metadata": {},
   "outputs": [
    {
     "data": {
      "image/png": "[encoded data removed]",
      "text/plain": [
       "<matplotlib.figure.Figure at 0x10c421dd8>"
      ]
     },
     "metadata": {},
     "output_type": "display_data"
    },
    {
     "name": "stdout",
     "output_type": "stream",
     "text": [
      "Running time for List Comprehension:  0.002321 \n",
      "Running time for Vectorization:  0.000528  \n"
     ]
    }
   ],
   "source": [
    "\"\"\"\n",
    "Time comparison for drawing plot.\n",
    "Draw a y = sin(t) curve\n",
    "\"\"\"\n",
    "import time\n",
    "t = np.linspace(-3, 3, 10001)\n",
    "\n",
    "start = time.perf_counter()\n",
    "y1 = [math.sin(i) for i in t]\n",
    "t1 = time.perf_counter() - start\n",
    "\n",
    "start = time.perf_counter()\n",
    "y2 = np.sin(t)\n",
    "t2 = time.perf_counter() - start\n",
    "\n",
    "plt.figure()\n",
    "plt.plot(t, y1, label = \"y from List Comprehension\", linestyle = '-', color = 'red')\n",
    "plt.plot(t, y2, label = \"y from Vectorization\", linestyle = '--', color = 'black')\n",
    "plt.legend()\n",
    "plt.show()\n",
    "\n",
    "print(\"Running time for List Comprehension:  %f \"%t1)\n",
    "print(\"Running time for Vectorization:  %f  \"%t2)"
   ]
  },
  {
   "cell_type": "code",
   "execution_count": null,
   "metadata": {},
   "outputs": [],
   "source": []
  },
  {
   "cell_type": "code",
   "execution_count": null,
   "metadata": {},
   "outputs": [],
   "source": []
  },
  {
   "cell_type": "code",
   "execution_count": null,
   "metadata": {},
   "outputs": [],
   "source": []
  }
 ],
 "metadata": {
  "kernelspec": {
   "display_name": "Python 3",
   "language": "python",
   "name": "python3"
  },
  "language_info": {
   "codemirror_mode": {
    "name": "ipython",
    "version": 3
   },
   "file_extension": ".py",
   "mimetype": "text/x-python",
   "name": "python",
   "nbconvert_exporter": "python",
   "pygments_lexer": "ipython3",
   "version": "3.6.3"
  }
 },
 "nbformat": 4,
 "nbformat_minor": 2
}
